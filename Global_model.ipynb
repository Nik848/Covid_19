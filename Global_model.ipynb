{
 "cells": [
  {
   "cell_type": "code",
   "execution_count": 38,
   "id": "2a8154e1",
   "metadata": {},
   "outputs": [],
   "source": [
    "import pandas as pd\n",
    "import numpy as np\n",
    "from prophet import Prophet\n",
    "import plotly.graph_objects as go\n",
    "import plotly.io as pio\n",
    "\n",
    "# Configure Plotly to open in browser\n",
    "pio.renderers.default = 'browser'"
   ]
  },
  {
   "cell_type": "code",
   "execution_count": 39,
   "id": "56cc234b",
   "metadata": {},
   "outputs": [],
   "source": [
    "df = pd.read_csv(\"Created Dataset/global_daily_cases_deaths.csv\")"
   ]
  },
  {
   "cell_type": "code",
   "execution_count": 40,
   "id": "54426c3a",
   "metadata": {},
   "outputs": [
    {
     "data": {
      "text/html": [
       "<div>\n",
       "<style scoped>\n",
       "    .dataframe tbody tr th:only-of-type {\n",
       "        vertical-align: middle;\n",
       "    }\n",
       "\n",
       "    .dataframe tbody tr th {\n",
       "        vertical-align: top;\n",
       "    }\n",
       "\n",
       "    .dataframe thead th {\n",
       "        text-align: right;\n",
       "    }\n",
       "</style>\n",
       "<table border=\"1\" class=\"dataframe\">\n",
       "  <thead>\n",
       "    <tr style=\"text-align: right;\">\n",
       "      <th></th>\n",
       "      <th>Date</th>\n",
       "      <th>Daily_Cases</th>\n",
       "      <th>Daily_Deaths</th>\n",
       "    </tr>\n",
       "  </thead>\n",
       "  <tbody>\n",
       "    <tr>\n",
       "      <th>0</th>\n",
       "      <td>2020-01-23</td>\n",
       "      <td>0.0</td>\n",
       "      <td>0.0</td>\n",
       "    </tr>\n",
       "    <tr>\n",
       "      <th>1</th>\n",
       "      <td>2020-01-24</td>\n",
       "      <td>187.0</td>\n",
       "      <td>7.0</td>\n",
       "    </tr>\n",
       "    <tr>\n",
       "      <th>2</th>\n",
       "      <td>2020-01-25</td>\n",
       "      <td>206.0</td>\n",
       "      <td>8.0</td>\n",
       "    </tr>\n",
       "    <tr>\n",
       "      <th>3</th>\n",
       "      <td>2020-01-26</td>\n",
       "      <td>190.0</td>\n",
       "      <td>0.0</td>\n",
       "    </tr>\n",
       "    <tr>\n",
       "      <th>4</th>\n",
       "      <td>2020-01-27</td>\n",
       "      <td>126.0</td>\n",
       "      <td>12.0</td>\n",
       "    </tr>\n",
       "  </tbody>\n",
       "</table>\n",
       "</div>"
      ],
      "text/plain": [
       "         Date  Daily_Cases  Daily_Deaths\n",
       "0  2020-01-23          0.0           0.0\n",
       "1  2020-01-24        187.0           7.0\n",
       "2  2020-01-25        206.0           8.0\n",
       "3  2020-01-26        190.0           0.0\n",
       "4  2020-01-27        126.0          12.0"
      ]
     },
     "execution_count": 40,
     "metadata": {},
     "output_type": "execute_result"
    }
   ],
   "source": [
    "df.head()"
   ]
  },
  {
   "cell_type": "code",
   "execution_count": 41,
   "id": "68e38d7d",
   "metadata": {},
   "outputs": [
    {
     "name": "stdout",
     "output_type": "stream",
     "text": [
      "<class 'pandas.core.frame.DataFrame'>\n",
      "RangeIndex: 1142 entries, 0 to 1141\n",
      "Data columns (total 3 columns):\n",
      " #   Column        Non-Null Count  Dtype  \n",
      "---  ------        --------------  -----  \n",
      " 0   Date          1142 non-null   object \n",
      " 1   Daily_Cases   1142 non-null   float64\n",
      " 2   Daily_Deaths  1142 non-null   float64\n",
      "dtypes: float64(2), object(1)\n",
      "memory usage: 26.9+ KB\n"
     ]
    }
   ],
   "source": [
    "df.info()"
   ]
  },
  {
   "cell_type": "code",
   "execution_count": 42,
   "id": "b7443425",
   "metadata": {},
   "outputs": [],
   "source": [
    "df['Date'] = pd.to_datetime(df['Date'])"
   ]
  },
  {
   "cell_type": "code",
   "execution_count": 43,
   "id": "85de8ae2",
   "metadata": {},
   "outputs": [],
   "source": [
    "# Prepare data for Prophet\n",
    "cases_df = df[['Date', 'Daily_Cases']].rename(columns={'Date': 'ds', 'Daily_Cases': 'y'})\n",
    "deaths_df = df[['Date', 'Daily_Deaths']].rename(columns={'Date': 'ds', 'Daily_Deaths': 'y'})"
   ]
  },
  {
   "cell_type": "code",
   "execution_count": 44,
   "id": "14ffe67e",
   "metadata": {},
   "outputs": [],
   "source": [
    "# Apply log-transform (to handle spikes and avoid negative predictions)\n",
    "cases_df['y'] = np.log1p(cases_df['y'])\n",
    "deaths_df['y'] = np.log1p(deaths_df['y'])"
   ]
  },
  {
   "cell_type": "code",
   "execution_count": 45,
   "id": "06bcd6aa",
   "metadata": {},
   "outputs": [
    {
     "name": "stderr",
     "output_type": "stream",
     "text": [
      "13:55:52 - cmdstanpy - INFO - Chain [1] start processing\n",
      "13:55:53 - cmdstanpy - INFO - Chain [1] done processing\n",
      "13:55:53 - cmdstanpy - INFO - Chain [1] start processing\n",
      "13:55:53 - cmdstanpy - INFO - Chain [1] done processing\n"
     ]
    },
    {
     "data": {
      "text/plain": [
       "<prophet.forecaster.Prophet at 0x1e196c7acc0>"
      ]
     },
     "execution_count": 45,
     "metadata": {},
     "output_type": "execute_result"
    }
   ],
   "source": [
    "# Build Prophet models\n",
    "cases_model = Prophet(daily_seasonality=True)\n",
    "cases_model.fit(cases_df)\n",
    "\n",
    "deaths_model = Prophet(daily_seasonality=True)\n",
    "deaths_model.fit(deaths_df)"
   ]
  },
  {
   "cell_type": "code",
   "execution_count": 46,
   "id": "18fab2e4",
   "metadata": {},
   "outputs": [],
   "source": [
    "# Make future dataframe (30 days)\n",
    "future_cases = cases_model.make_future_dataframe(periods=30)\n",
    "future_deaths = deaths_model.make_future_dataframe(periods=30)\n"
   ]
  },
  {
   "cell_type": "code",
   "execution_count": 47,
   "id": "708f9e0c",
   "metadata": {},
   "outputs": [],
   "source": [
    "# Predict next 30 days\n",
    "cases_forecast = cases_model.predict(future_cases)\n",
    "deaths_forecast = deaths_model.predict(future_deaths)"
   ]
  },
  {
   "cell_type": "code",
   "execution_count": 48,
   "id": "fffc1fdf",
   "metadata": {},
   "outputs": [],
   "source": [
    "# Inverse log-transform to get real counts\n",
    "cases_forecast['yhat'] = np.expm1(cases_forecast['yhat'])\n",
    "deaths_forecast['yhat'] = np.expm1(deaths_forecast['yhat'])"
   ]
  },
  {
   "cell_type": "code",
   "execution_count": 49,
   "id": "cc16474e",
   "metadata": {},
   "outputs": [],
   "source": [
    "# Extract only the next 30 days\n",
    "pred_cases_30 = cases_forecast[['ds', 'yhat']].tail(30).rename(columns={'yhat': 'Predicted_Daily_Cases'})\n",
    "pred_deaths_30 = deaths_forecast[['ds', 'yhat']].tail(30).rename(columns={'yhat': 'Predicted_Daily_Deaths'})"
   ]
  },
  {
   "cell_type": "code",
   "execution_count": 52,
   "id": "65a23cba",
   "metadata": {},
   "outputs": [
    {
     "name": "stdout",
     "output_type": "stream",
     "text": [
      "          ds  Predicted_Daily_Cases  Predicted_Daily_Deaths\n",
      "0 2023-03-10              71.515258                7.278924\n",
      "1 2023-03-11               0.440338                0.874921\n",
      "2 2023-03-12               0.934927                1.723636\n",
      "3 2023-03-13            4779.117666              658.984322\n",
      "4 2023-03-14            4883.542354             1069.182565\n"
     ]
    }
   ],
   "source": [
    "# Combine into one dataframe\n",
    "pred_30_df = pd.merge(pred_cases_30, pred_deaths_30, on='ds').reset_index(drop=True)\n",
    "print(pred_30_df.head())"
   ]
  },
  {
   "cell_type": "code",
   "execution_count": 51,
   "id": "6f3ef02c",
   "metadata": {},
   "outputs": [],
   "source": [
    "fig = go.Figure()\n",
    "\n",
    "fig.add_trace(go.Scatter(\n",
    "    x=pred_30_df['ds'],\n",
    "    y=pred_30_df['Predicted_Daily_Cases'],\n",
    "    mode='lines+markers',\n",
    "    name='Predicted Daily Cases',\n",
    "    line=dict(color='crimson')\n",
    "))\n",
    "\n",
    "fig.add_trace(go.Scatter(\n",
    "    x=pred_30_df['ds'],\n",
    "    y=pred_30_df['Predicted_Daily_Deaths'],\n",
    "    mode='lines+markers',\n",
    "    name='Predicted Daily Deaths',\n",
    "    line=dict(color='gray')\n",
    "))\n",
    "\n",
    "fig.update_layout(\n",
    "    title=\"🌍 Global COVID-19: Predicted Daily Cases and Deaths (Next 30 Days)\",\n",
    "    xaxis_title=\"Date\",\n",
    "    yaxis_title=\"Count\",\n",
    "    template=\"plotly_white\"\n",
    ")\n",
    "\n",
    "fig.show()"
   ]
  },
  {
   "cell_type": "code",
   "execution_count": null,
   "id": "676e23a0",
   "metadata": {},
   "outputs": [],
   "source": []
  }
 ],
 "metadata": {
  "kernelspec": {
   "display_name": "Python 3",
   "language": "python",
   "name": "python3"
  },
  "language_info": {
   "codemirror_mode": {
    "name": "ipython",
    "version": 3
   },
   "file_extension": ".py",
   "mimetype": "text/x-python",
   "name": "python",
   "nbconvert_exporter": "python",
   "pygments_lexer": "ipython3",
   "version": "3.12.10"
  }
 },
 "nbformat": 4,
 "nbformat_minor": 5
}
